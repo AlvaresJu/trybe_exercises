{
 "cells": [
  {
   "cell_type": "code",
   "execution_count": 1,
   "metadata": {},
   "outputs": [
    {
     "data": {
      "text/html": [
       "<div>\n",
       "<style scoped>\n",
       "    .dataframe tbody tr th:only-of-type {\n",
       "        vertical-align: middle;\n",
       "    }\n",
       "\n",
       "    .dataframe tbody tr th {\n",
       "        vertical-align: top;\n",
       "    }\n",
       "\n",
       "    .dataframe thead th {\n",
       "        text-align: right;\n",
       "    }\n",
       "</style>\n",
       "<table border=\"1\" class=\"dataframe\">\n",
       "  <thead>\n",
       "    <tr style=\"text-align: right;\">\n",
       "      <th></th>\n",
       "      <th>Grande Região</th>\n",
       "      <th>Número de Municípios</th>\n",
       "      <th>População em situação de rua</th>\n",
       "      <th>Total de Municípios (%)</th>\n",
       "      <th>Total em situação de rua (%)</th>\n",
       "    </tr>\n",
       "  </thead>\n",
       "  <tbody>\n",
       "    <tr>\n",
       "      <th>0</th>\n",
       "      <td>Norte</td>\n",
       "      <td>450</td>\n",
       "      <td>4399</td>\n",
       "      <td>8.1</td>\n",
       "      <td>4.32</td>\n",
       "    </tr>\n",
       "    <tr>\n",
       "      <th>1</th>\n",
       "      <td>Nordeste</td>\n",
       "      <td>1794</td>\n",
       "      <td>22864</td>\n",
       "      <td>32.2</td>\n",
       "      <td>22.45</td>\n",
       "    </tr>\n",
       "    <tr>\n",
       "      <th>2</th>\n",
       "      <td>Sudeste</td>\n",
       "      <td>1668</td>\n",
       "      <td>49792</td>\n",
       "      <td>29.9</td>\n",
       "      <td>48.89</td>\n",
       "    </tr>\n",
       "    <tr>\n",
       "      <th>3</th>\n",
       "      <td>Sul</td>\n",
       "      <td>1191</td>\n",
       "      <td>16021</td>\n",
       "      <td>21.4</td>\n",
       "      <td>15.73</td>\n",
       "    </tr>\n",
       "    <tr>\n",
       "      <th>4</th>\n",
       "      <td>Centro-Oeste</td>\n",
       "      <td>467</td>\n",
       "      <td>8777</td>\n",
       "      <td>8.4</td>\n",
       "      <td>8.62</td>\n",
       "    </tr>\n",
       "  </tbody>\n",
       "</table>\n",
       "</div>"
      ],
      "text/plain": [
       "  Grande Região  Número de Municípios  População em situação de rua   \n",
       "0         Norte                   450                          4399  \\\n",
       "1      Nordeste                  1794                         22864   \n",
       "2       Sudeste                  1668                         49792   \n",
       "3           Sul                  1191                         16021   \n",
       "4  Centro-Oeste                   467                          8777   \n",
       "\n",
       "   Total de Municípios (%)  Total em situação de rua (%)  \n",
       "0                      8.1                          4.32  \n",
       "1                     32.2                         22.45  \n",
       "2                     29.9                         48.89  \n",
       "3                     21.4                         15.73  \n",
       "4                      8.4                          8.62  "
      ]
     },
     "execution_count": 1,
     "metadata": {},
     "output_type": "execute_result"
    }
   ],
   "source": [
    "import pandas as pd\n",
    "\n",
    "df = pd.DataFrame({\n",
    "    \"Grande Região\": [\"Norte\", \"Nordeste\", \"Sudeste\", \"Sul\", \"Centro-Oeste\"],\n",
    "    \"Número de Municípios\": [450, 1794, 1668, 1191, 467],\n",
    "    \"População em situação de rua\": [4399, 22864, 49792, 16021, 8777],\n",
    "    \"Total de Municípios (%)\": [8.10, 32.20, 29.90, 21.40, 8.40],\n",
    "    \"Total em situação de rua (%)\": [4.32, 22.45, 48.89, 15.73, 8.62]\n",
    "})\n",
    "\n",
    "df"
   ]
  },
  {
   "cell_type": "code",
   "execution_count": 2,
   "metadata": {},
   "outputs": [
    {
     "data": {
      "text/plain": [
       "(5, 5)"
      ]
     },
     "execution_count": 2,
     "metadata": {},
     "output_type": "execute_result"
    }
   ],
   "source": [
    "# Quantas linhas e colunas possui o nosso conjunto de dados?\n",
    "df.shape"
   ]
  },
  {
   "cell_type": "code",
   "execution_count": 3,
   "metadata": {},
   "outputs": [
    {
     "name": "stdout",
     "output_type": "stream",
     "text": [
      "<class 'pandas.core.frame.DataFrame'>\n",
      "RangeIndex: 5 entries, 0 to 4\n",
      "Data columns (total 5 columns):\n",
      " #   Column                        Non-Null Count  Dtype  \n",
      "---  ------                        --------------  -----  \n",
      " 0   Grande Região                 5 non-null      object \n",
      " 1   Número de Municípios          5 non-null      int64  \n",
      " 2   População em situação de rua  5 non-null      int64  \n",
      " 3   Total de Municípios (%)       5 non-null      float64\n",
      " 4   Total em situação de rua (%)  5 non-null      float64\n",
      "dtypes: float64(2), int64(2), object(1)\n",
      "memory usage: 328.0+ bytes\n"
     ]
    }
   ],
   "source": [
    "# Há valores nulos no DataFrame?\n",
    "df.info()"
   ]
  },
  {
   "cell_type": "code",
   "execution_count": 4,
   "metadata": {},
   "outputs": [
    {
     "data": {
      "text/html": [
       "<div>\n",
       "<style scoped>\n",
       "    .dataframe tbody tr th:only-of-type {\n",
       "        vertical-align: middle;\n",
       "    }\n",
       "\n",
       "    .dataframe tbody tr th {\n",
       "        vertical-align: top;\n",
       "    }\n",
       "\n",
       "    .dataframe thead th {\n",
       "        text-align: right;\n",
       "    }\n",
       "</style>\n",
       "<table border=\"1\" class=\"dataframe\">\n",
       "  <thead>\n",
       "    <tr style=\"text-align: right;\">\n",
       "      <th></th>\n",
       "      <th>Número de Municípios</th>\n",
       "      <th>População em situação de rua</th>\n",
       "      <th>Total de Municípios (%)</th>\n",
       "      <th>Total em situação de rua (%)</th>\n",
       "    </tr>\n",
       "  </thead>\n",
       "  <tbody>\n",
       "    <tr>\n",
       "      <th>count</th>\n",
       "      <td>5.000000</td>\n",
       "      <td>5.000000</td>\n",
       "      <td>5.000000</td>\n",
       "      <td>5.000000</td>\n",
       "    </tr>\n",
       "    <tr>\n",
       "      <th>mean</th>\n",
       "      <td>1114.000000</td>\n",
       "      <td>20370.600000</td>\n",
       "      <td>20.000000</td>\n",
       "      <td>20.002000</td>\n",
       "    </tr>\n",
       "    <tr>\n",
       "      <th>std</th>\n",
       "      <td>639.286712</td>\n",
       "      <td>17890.349418</td>\n",
       "      <td>11.456221</td>\n",
       "      <td>17.565835</td>\n",
       "    </tr>\n",
       "    <tr>\n",
       "      <th>min</th>\n",
       "      <td>450.000000</td>\n",
       "      <td>4399.000000</td>\n",
       "      <td>8.100000</td>\n",
       "      <td>4.320000</td>\n",
       "    </tr>\n",
       "    <tr>\n",
       "      <th>25%</th>\n",
       "      <td>467.000000</td>\n",
       "      <td>8777.000000</td>\n",
       "      <td>8.400000</td>\n",
       "      <td>8.620000</td>\n",
       "    </tr>\n",
       "    <tr>\n",
       "      <th>50%</th>\n",
       "      <td>1191.000000</td>\n",
       "      <td>16021.000000</td>\n",
       "      <td>21.400000</td>\n",
       "      <td>15.730000</td>\n",
       "    </tr>\n",
       "    <tr>\n",
       "      <th>75%</th>\n",
       "      <td>1668.000000</td>\n",
       "      <td>22864.000000</td>\n",
       "      <td>29.900000</td>\n",
       "      <td>22.450000</td>\n",
       "    </tr>\n",
       "    <tr>\n",
       "      <th>max</th>\n",
       "      <td>1794.000000</td>\n",
       "      <td>49792.000000</td>\n",
       "      <td>32.200000</td>\n",
       "      <td>48.890000</td>\n",
       "    </tr>\n",
       "  </tbody>\n",
       "</table>\n",
       "</div>"
      ],
      "text/plain": [
       "       Número de Municípios  População em situação de rua   \n",
       "count              5.000000                      5.000000  \\\n",
       "mean            1114.000000                  20370.600000   \n",
       "std              639.286712                  17890.349418   \n",
       "min              450.000000                   4399.000000   \n",
       "25%              467.000000                   8777.000000   \n",
       "50%             1191.000000                  16021.000000   \n",
       "75%             1668.000000                  22864.000000   \n",
       "max             1794.000000                  49792.000000   \n",
       "\n",
       "       Total de Municípios (%)  Total em situação de rua (%)  \n",
       "count                 5.000000                      5.000000  \n",
       "mean                 20.000000                     20.002000  \n",
       "std                  11.456221                     17.565835  \n",
       "min                   8.100000                      4.320000  \n",
       "25%                   8.400000                      8.620000  \n",
       "50%                  21.400000                     15.730000  \n",
       "75%                  29.900000                     22.450000  \n",
       "max                  32.200000                     48.890000  "
      ]
     },
     "execution_count": 4,
     "metadata": {},
     "output_type": "execute_result"
    }
   ],
   "source": [
    "# Qual o número médio de pessoas em situação de rua por região do Brasil em nosso DataFrame?\n",
    "# Qual região tem proporcionalmente a maior quantidade de pessoas nessa situação? E qual tem menos?\n",
    "df.describe()"
   ]
  }
 ],
 "metadata": {
  "kernelspec": {
   "display_name": ".venv",
   "language": "python",
   "name": "python3"
  },
  "language_info": {
   "codemirror_mode": {
    "name": "ipython",
    "version": 3
   },
   "file_extension": ".py",
   "mimetype": "text/x-python",
   "name": "python",
   "nbconvert_exporter": "python",
   "pygments_lexer": "ipython3",
   "version": "3.8.10"
  },
  "orig_nbformat": 4
 },
 "nbformat": 4,
 "nbformat_minor": 2
}
